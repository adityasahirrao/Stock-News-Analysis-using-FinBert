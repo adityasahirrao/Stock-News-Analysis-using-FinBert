{
  "nbformat": 4,
  "nbformat_minor": 0,
  "metadata": {
    "colab": {
      "provenance": [],
      "gpuType": "T4",
      "authorship_tag": "ABX9TyP7p8spZi7h8QSBK/HstGtf"
    },
    "kernelspec": {
      "name": "python3",
      "display_name": "Python 3"
    },
    "language_info": {
      "name": "python"
    },
    "accelerator": "GPU"
  },
  "cells": [
    {
      "cell_type": "code",
      "execution_count": 1,
      "metadata": {
        "id": "j3MCfjNgIpSA"
      },
      "outputs": [],
      "source": [
        "# Import packages\n",
        "\n",
        "import pandas as pd\n",
        "import requests\n",
        "from datetime import datetime, timedelta"
      ]
    },
    {
      "cell_type": "code",
      "source": [
        "# Using Alphavantage for fetching the news\n",
        "# documentation : https://www.alphavantage.co/documentation/\n"
      ],
      "metadata": {
        "id": "aMXeuHQ9I-As"
      },
      "execution_count": 2,
      "outputs": []
    },
    {
      "cell_type": "code",
      "source": [
        "# URL which considers symbol for specific stock, duration as from one day from the current date till current date, bydefault latest news, limit is top 20, and topic is technology\n",
        "# time format : #YYYYMMDDTHHMM\n",
        "#Basic url = 'https://www.alphavantage.co/query?function=NEWS_SENTIMENT&tickers=AAPL&apikey=API_KEY'\n",
        "# limit not added but bydefault is 50 news\n",
        "\n",
        "stock_symbol = \"AAPL\"\n",
        "API_KEY = \"I4OIMMPFUBLACCN6\"\n",
        "# Calculate the date range for the last two days until the current date\n",
        "today = datetime.now().strftime(\"%Y%m%d\")\n",
        "two_days_ago = (datetime.now() - timedelta(days=2)).strftime(\"%Y%m%d\")\n",
        "\n",
        "url = f\"https://www.alphavantage.co/query?function=NEWS_SENTIMENT&tickers={stock_symbol}&apikey={API_KEY}&topics=technology&time_from={two_days_ago}T0100&time_to={today}T2300&\"\n",
        "\n",
        "r = requests.get(url)\n",
        "data = r.json()"
      ],
      "metadata": {
        "id": "NSgrNVt4JOUT"
      },
      "execution_count": 3,
      "outputs": []
    },
    {
      "cell_type": "code",
      "source": [
        "# Convert the Python object into a DataFrame\n",
        "df = pd.DataFrame(data)"
      ],
      "metadata": {
        "id": "s2_khCalJx-a"
      },
      "execution_count": 4,
      "outputs": []
    },
    {
      "cell_type": "code",
      "source": [
        "df.head(5)"
      ],
      "metadata": {
        "colab": {
          "base_uri": "https://localhost:8080/",
          "height": 206
        },
        "id": "OBXUMRgfKmfx",
        "outputId": "17aa6316-2df7-4758-88a0-f408df602632"
      },
      "execution_count": 5,
      "outputs": [
        {
          "output_type": "execute_result",
          "data": {
            "text/plain": [
              "  items                         sentiment_score_definition  \\\n",
              "0    34  x <= -0.35: Bearish; -0.35 < x <= -0.15: Somew...   \n",
              "1    34  x <= -0.35: Bearish; -0.35 < x <= -0.15: Somew...   \n",
              "2    34  x <= -0.35: Bearish; -0.35 < x <= -0.15: Somew...   \n",
              "3    34  x <= -0.35: Bearish; -0.35 < x <= -0.15: Somew...   \n",
              "4    34  x <= -0.35: Bearish; -0.35 < x <= -0.15: Somew...   \n",
              "\n",
              "                          relevance_score_definition  \\\n",
              "0  0 < x <= 1, with a higher score indicating hig...   \n",
              "1  0 < x <= 1, with a higher score indicating hig...   \n",
              "2  0 < x <= 1, with a higher score indicating hig...   \n",
              "3  0 < x <= 1, with a higher score indicating hig...   \n",
              "4  0 < x <= 1, with a higher score indicating hig...   \n",
              "\n",
              "                                                feed  \n",
              "0  {'title': 'Europe's Legislators To Back Artist...  \n",
              "1  {'title': 'Harnessing the Power of Long-Term T...  \n",
              "2  {'title': 'Global IPTV Market Report 2023: Gro...  \n",
              "3  {'title': 'Ray Dalio says AI technology both '...  \n",
              "4  {'title': 'Tesla's Surge Boosts EV ETFs', 'url...  "
            ],
            "text/html": [
              "\n",
              "  <div id=\"df-83d987b0-0090-4388-aa70-dfcac66e8a84\">\n",
              "    <div class=\"colab-df-container\">\n",
              "      <div>\n",
              "<style scoped>\n",
              "    .dataframe tbody tr th:only-of-type {\n",
              "        vertical-align: middle;\n",
              "    }\n",
              "\n",
              "    .dataframe tbody tr th {\n",
              "        vertical-align: top;\n",
              "    }\n",
              "\n",
              "    .dataframe thead th {\n",
              "        text-align: right;\n",
              "    }\n",
              "</style>\n",
              "<table border=\"1\" class=\"dataframe\">\n",
              "  <thead>\n",
              "    <tr style=\"text-align: right;\">\n",
              "      <th></th>\n",
              "      <th>items</th>\n",
              "      <th>sentiment_score_definition</th>\n",
              "      <th>relevance_score_definition</th>\n",
              "      <th>feed</th>\n",
              "    </tr>\n",
              "  </thead>\n",
              "  <tbody>\n",
              "    <tr>\n",
              "      <th>0</th>\n",
              "      <td>34</td>\n",
              "      <td>x &lt;= -0.35: Bearish; -0.35 &lt; x &lt;= -0.15: Somew...</td>\n",
              "      <td>0 &lt; x &lt;= 1, with a higher score indicating hig...</td>\n",
              "      <td>{'title': 'Europe's Legislators To Back Artist...</td>\n",
              "    </tr>\n",
              "    <tr>\n",
              "      <th>1</th>\n",
              "      <td>34</td>\n",
              "      <td>x &lt;= -0.35: Bearish; -0.35 &lt; x &lt;= -0.15: Somew...</td>\n",
              "      <td>0 &lt; x &lt;= 1, with a higher score indicating hig...</td>\n",
              "      <td>{'title': 'Harnessing the Power of Long-Term T...</td>\n",
              "    </tr>\n",
              "    <tr>\n",
              "      <th>2</th>\n",
              "      <td>34</td>\n",
              "      <td>x &lt;= -0.35: Bearish; -0.35 &lt; x &lt;= -0.15: Somew...</td>\n",
              "      <td>0 &lt; x &lt;= 1, with a higher score indicating hig...</td>\n",
              "      <td>{'title': 'Global IPTV Market Report 2023: Gro...</td>\n",
              "    </tr>\n",
              "    <tr>\n",
              "      <th>3</th>\n",
              "      <td>34</td>\n",
              "      <td>x &lt;= -0.35: Bearish; -0.35 &lt; x &lt;= -0.15: Somew...</td>\n",
              "      <td>0 &lt; x &lt;= 1, with a higher score indicating hig...</td>\n",
              "      <td>{'title': 'Ray Dalio says AI technology both '...</td>\n",
              "    </tr>\n",
              "    <tr>\n",
              "      <th>4</th>\n",
              "      <td>34</td>\n",
              "      <td>x &lt;= -0.35: Bearish; -0.35 &lt; x &lt;= -0.15: Somew...</td>\n",
              "      <td>0 &lt; x &lt;= 1, with a higher score indicating hig...</td>\n",
              "      <td>{'title': 'Tesla's Surge Boosts EV ETFs', 'url...</td>\n",
              "    </tr>\n",
              "  </tbody>\n",
              "</table>\n",
              "</div>\n",
              "      <button class=\"colab-df-convert\" onclick=\"convertToInteractive('df-83d987b0-0090-4388-aa70-dfcac66e8a84')\"\n",
              "              title=\"Convert this dataframe to an interactive table.\"\n",
              "              style=\"display:none;\">\n",
              "        \n",
              "  <svg xmlns=\"http://www.w3.org/2000/svg\" height=\"24px\"viewBox=\"0 0 24 24\"\n",
              "       width=\"24px\">\n",
              "    <path d=\"M0 0h24v24H0V0z\" fill=\"none\"/>\n",
              "    <path d=\"M18.56 5.44l.94 2.06.94-2.06 2.06-.94-2.06-.94-.94-2.06-.94 2.06-2.06.94zm-11 1L8.5 8.5l.94-2.06 2.06-.94-2.06-.94L8.5 2.5l-.94 2.06-2.06.94zm10 10l.94 2.06.94-2.06 2.06-.94-2.06-.94-.94-2.06-.94 2.06-2.06.94z\"/><path d=\"M17.41 7.96l-1.37-1.37c-.4-.4-.92-.59-1.43-.59-.52 0-1.04.2-1.43.59L10.3 9.45l-7.72 7.72c-.78.78-.78 2.05 0 2.83L4 21.41c.39.39.9.59 1.41.59.51 0 1.02-.2 1.41-.59l7.78-7.78 2.81-2.81c.8-.78.8-2.07 0-2.86zM5.41 20L4 18.59l7.72-7.72 1.47 1.35L5.41 20z\"/>\n",
              "  </svg>\n",
              "      </button>\n",
              "      \n",
              "  <style>\n",
              "    .colab-df-container {\n",
              "      display:flex;\n",
              "      flex-wrap:wrap;\n",
              "      gap: 12px;\n",
              "    }\n",
              "\n",
              "    .colab-df-convert {\n",
              "      background-color: #E8F0FE;\n",
              "      border: none;\n",
              "      border-radius: 50%;\n",
              "      cursor: pointer;\n",
              "      display: none;\n",
              "      fill: #1967D2;\n",
              "      height: 32px;\n",
              "      padding: 0 0 0 0;\n",
              "      width: 32px;\n",
              "    }\n",
              "\n",
              "    .colab-df-convert:hover {\n",
              "      background-color: #E2EBFA;\n",
              "      box-shadow: 0px 1px 2px rgba(60, 64, 67, 0.3), 0px 1px 3px 1px rgba(60, 64, 67, 0.15);\n",
              "      fill: #174EA6;\n",
              "    }\n",
              "\n",
              "    [theme=dark] .colab-df-convert {\n",
              "      background-color: #3B4455;\n",
              "      fill: #D2E3FC;\n",
              "    }\n",
              "\n",
              "    [theme=dark] .colab-df-convert:hover {\n",
              "      background-color: #434B5C;\n",
              "      box-shadow: 0px 1px 3px 1px rgba(0, 0, 0, 0.15);\n",
              "      filter: drop-shadow(0px 1px 2px rgba(0, 0, 0, 0.3));\n",
              "      fill: #FFFFFF;\n",
              "    }\n",
              "  </style>\n",
              "\n",
              "      <script>\n",
              "        const buttonEl =\n",
              "          document.querySelector('#df-83d987b0-0090-4388-aa70-dfcac66e8a84 button.colab-df-convert');\n",
              "        buttonEl.style.display =\n",
              "          google.colab.kernel.accessAllowed ? 'block' : 'none';\n",
              "\n",
              "        async function convertToInteractive(key) {\n",
              "          const element = document.querySelector('#df-83d987b0-0090-4388-aa70-dfcac66e8a84');\n",
              "          const dataTable =\n",
              "            await google.colab.kernel.invokeFunction('convertToInteractive',\n",
              "                                                     [key], {});\n",
              "          if (!dataTable) return;\n",
              "\n",
              "          const docLinkHtml = 'Like what you see? Visit the ' +\n",
              "            '<a target=\"_blank\" href=https://colab.research.google.com/notebooks/data_table.ipynb>data table notebook</a>'\n",
              "            + ' to learn more about interactive tables.';\n",
              "          element.innerHTML = '';\n",
              "          dataTable['output_type'] = 'display_data';\n",
              "          await google.colab.output.renderOutput(dataTable, element);\n",
              "          const docLink = document.createElement('div');\n",
              "          docLink.innerHTML = docLinkHtml;\n",
              "          element.appendChild(docLink);\n",
              "        }\n",
              "      </script>\n",
              "    </div>\n",
              "  </div>\n",
              "  "
            ]
          },
          "metadata": {},
          "execution_count": 5
        }
      ]
    },
    {
      "cell_type": "code",
      "source": [
        "df.count()"
      ],
      "metadata": {
        "colab": {
          "base_uri": "https://localhost:8080/"
        },
        "id": "Yup-JUPhKo5y",
        "outputId": "5840eecb-8c6b-430b-caf2-52374a40596b"
      },
      "execution_count": 6,
      "outputs": [
        {
          "output_type": "execute_result",
          "data": {
            "text/plain": [
              "items                         34\n",
              "sentiment_score_definition    34\n",
              "relevance_score_definition    34\n",
              "feed                          34\n",
              "dtype: int64"
            ]
          },
          "metadata": {},
          "execution_count": 6
        }
      ]
    },
    {
      "cell_type": "code",
      "source": [
        "df[\"feed\"][0]"
      ],
      "metadata": {
        "colab": {
          "base_uri": "https://localhost:8080/"
        },
        "id": "HwvvgPHjKsiG",
        "outputId": "3e750204-cfbe-4b90-9acd-690492278759"
      },
      "execution_count": 7,
      "outputs": [
        {
          "output_type": "execute_result",
          "data": {
            "text/plain": [
              "{'title': \"Europe's Legislators To Back Artists In Demanding Better Pay And Transparency From Spotify: Politico - Spotify Technology  ( NYSE:SPOT ) , Amazon.com  ( NASDAQ:AMZN ) \",\n",
              " 'url': 'https://www.benzinga.com/news/23/06/32829228/europes-legislators-to-back-artists-in-demanding-better-pay-and-transparency-from-spotify-politico',\n",
              " 'time_published': '20230613T050122',\n",
              " 'authors': ['Benzinga Newsbot'],\n",
              " 'summary': \"In a move to better support European music creators and artists, a key lawmaker in the European Parliament's culture committee is pushing for greater transparency and fairer remuneration from music streaming platforms like Spotify Inc. SPOT, Politico reports.\",\n",
              " 'banner_image': 'https://cdn.benzinga.com/files/images/story/2023/Spotify_Photo_by_esthermm_on_Shutterstock_0.jpeg?width=1200&height=800&fit=crop',\n",
              " 'source': 'Benzinga',\n",
              " 'category_within_source': 'News',\n",
              " 'source_domain': 'www.benzinga.com',\n",
              " 'topics': [{'topic': 'Earnings', 'relevance_score': '0.158519'},\n",
              "  {'topic': 'Technology', 'relevance_score': '0.5'},\n",
              "  {'topic': 'Retail & Wholesale', 'relevance_score': '0.5'}],\n",
              " 'overall_sentiment_score': 0.166063,\n",
              " 'overall_sentiment_label': 'Somewhat-Bullish',\n",
              " 'ticker_sentiment': [{'ticker': 'AAPL',\n",
              "   'relevance_score': '0.218817',\n",
              "   'ticker_sentiment_score': '0.31162',\n",
              "   'ticker_sentiment_label': 'Somewhat-Bullish'},\n",
              "  {'ticker': 'SPOT',\n",
              "   'relevance_score': '0.323078',\n",
              "   'ticker_sentiment_score': '0.411659',\n",
              "   'ticker_sentiment_label': 'Bullish'},\n",
              "  {'ticker': 'AMZN',\n",
              "   'relevance_score': '0.218817',\n",
              "   'ticker_sentiment_score': '0.31162',\n",
              "   'ticker_sentiment_label': 'Somewhat-Bullish'},\n",
              "  {'ticker': 'TCTZF',\n",
              "   'relevance_score': '0.110462',\n",
              "   'ticker_sentiment_score': '0.20929',\n",
              "   'ticker_sentiment_label': 'Somewhat-Bullish'}]}"
            ]
          },
          "metadata": {},
          "execution_count": 7
        }
      ]
    },
    {
      "cell_type": "code",
      "source": [
        "print(df[\"feed\"][0][\"title\"])\n",
        "print(df[\"feed\"][0][\"time_published\"])\n",
        "print(df[\"feed\"][0][\"summary\"])\n",
        "'''\n",
        "for i in range(df[\"feed\"].count()):                            # To check the news published dates\n",
        "  print(df[\"feed\"][i][\"time_published\"])\n",
        "'''"
      ],
      "metadata": {
        "colab": {
          "base_uri": "https://localhost:8080/",
          "height": 108
        },
        "id": "eHUslXVGl5Ek",
        "outputId": "0639574c-16e0-4288-882f-ff41ebd53ea3"
      },
      "execution_count": 8,
      "outputs": [
        {
          "output_type": "stream",
          "name": "stdout",
          "text": [
            "Europe's Legislators To Back Artists In Demanding Better Pay And Transparency From Spotify: Politico - Spotify Technology  ( NYSE:SPOT ) , Amazon.com  ( NASDAQ:AMZN ) \n",
            "20230613T050122\n",
            "In a move to better support European music creators and artists, a key lawmaker in the European Parliament's culture committee is pushing for greater transparency and fairer remuneration from music streaming platforms like Spotify Inc. SPOT, Politico reports.\n"
          ]
        },
        {
          "output_type": "execute_result",
          "data": {
            "text/plain": [
              "'\\nfor i in range(df[\"feed\"].count()):                            # To check the news published dates\\n  print(df[\"feed\"][i][\"time_published\"])\\n'"
            ],
            "application/vnd.google.colaboratory.intrinsic+json": {
              "type": "string"
            }
          },
          "metadata": {},
          "execution_count": 8
        }
      ]
    },
    {
      "cell_type": "code",
      "source": [
        "# creating new article list where combining the title and summary together\n",
        "\n",
        "articles_list = []\n",
        "\n",
        "count = df[\"feed\"].count()\n",
        "\n",
        "for i in range(count):\n",
        "  articles_list.append(df[\"feed\"][i][\"title\"] + \" : \" + df[\"feed\"][i][\"summary\"])"
      ],
      "metadata": {
        "id": "pcU-gXHKK0NM"
      },
      "execution_count": 9,
      "outputs": []
    },
    {
      "cell_type": "code",
      "source": [
        "# Removing all the unnecessary brackets\n",
        "import re\n",
        "\n",
        "cleaned_articles_list = []\n",
        "\n",
        "# Iterate over each text in the list\n",
        "for text in articles_list:\n",
        "    cleaned_text = re.sub(r'\\([^)]*\\)', '', text)\n",
        "    cleaned_articles_list.append(cleaned_text)\n",
        "\n",
        "'''\n",
        "#Print the cleaned text data\n",
        "for cleaned_text in cleaned_articles_list:\n",
        "    print(cleaned_text)\n",
        "'''\n",
        "'''\n",
        "# Removing all the punctuations from the list like fullstop or brackets\n",
        "\n",
        "import re\n",
        "\n",
        "cleaned_articles_list = []\n",
        "\n",
        "# Define the regular expression pattern\n",
        "pattern = r'[^\\w\\s]|\\[|\\]'\n",
        "\n",
        "# Iterate over each text in the list\n",
        "for text in articles_list:\n",
        "    cleaned_text = re.sub(pattern, '', text)\n",
        "    cleaned_articles_list.append(cleaned_text)\n",
        "\n",
        "# Print the cleaned_articles_list\n",
        "for cleaned_text in cleaned_articles_list:\n",
        "    print(cleaned_text)\n",
        "'''"
      ],
      "metadata": {
        "colab": {
          "base_uri": "https://localhost:8080/",
          "height": 70
        },
        "id": "Tiy0cmo-nRnn",
        "outputId": "4c7c7f3e-d99f-42a1-fdf5-d835bc437dd2"
      },
      "execution_count": 10,
      "outputs": [
        {
          "output_type": "execute_result",
          "data": {
            "text/plain": [
              "\"\\n# Removing all the punctuations from the list like fullstop or brackets\\n\\nimport re\\n\\ncleaned_articles_list = []\\n\\n# Define the regular expression pattern\\npattern = r'[^\\\\w\\\\s]|\\\\[|\\\\]'\\n\\n# Iterate over each text in the list\\nfor text in articles_list:\\n    cleaned_text = re.sub(pattern, '', text)\\n    cleaned_articles_list.append(cleaned_text)\\n\\n# Print the cleaned_articles_list\\nfor cleaned_text in cleaned_articles_list:\\n    print(cleaned_text)\\n\""
            ],
            "application/vnd.google.colaboratory.intrinsic+json": {
              "type": "string"
            }
          },
          "metadata": {},
          "execution_count": 10
        }
      ]
    },
    {
      "cell_type": "code",
      "source": [
        "# Start with Trnasformers\n",
        "\n",
        "!pip install transformers"
      ],
      "metadata": {
        "colab": {
          "base_uri": "https://localhost:8080/"
        },
        "id": "dU-NbWbxLPxK",
        "outputId": "1d849acb-0054-4228-e2fa-e626325463a0"
      },
      "execution_count": 11,
      "outputs": [
        {
          "output_type": "stream",
          "name": "stdout",
          "text": [
            "Looking in indexes: https://pypi.org/simple, https://us-python.pkg.dev/colab-wheels/public/simple/\n",
            "Collecting transformers\n",
            "  Downloading transformers-4.30.1-py3-none-any.whl (7.2 MB)\n",
            "\u001b[2K     \u001b[90m━━━━━━━━━━━━━━━━━━━━━━━━━━━━━━━━━━━━━━━━\u001b[0m \u001b[32m7.2/7.2 MB\u001b[0m \u001b[31m80.0 MB/s\u001b[0m eta \u001b[36m0:00:00\u001b[0m\n",
            "\u001b[?25hRequirement already satisfied: filelock in /usr/local/lib/python3.10/dist-packages (from transformers) (3.12.0)\n",
            "Collecting huggingface-hub<1.0,>=0.14.1 (from transformers)\n",
            "  Downloading huggingface_hub-0.15.1-py3-none-any.whl (236 kB)\n",
            "\u001b[2K     \u001b[90m━━━━━━━━━━━━━━━━━━━━━━━━━━━━━━━━━━━━━━\u001b[0m \u001b[32m236.8/236.8 kB\u001b[0m \u001b[31m28.0 MB/s\u001b[0m eta \u001b[36m0:00:00\u001b[0m\n",
            "\u001b[?25hRequirement already satisfied: numpy>=1.17 in /usr/local/lib/python3.10/dist-packages (from transformers) (1.22.4)\n",
            "Requirement already satisfied: packaging>=20.0 in /usr/local/lib/python3.10/dist-packages (from transformers) (23.1)\n",
            "Requirement already satisfied: pyyaml>=5.1 in /usr/local/lib/python3.10/dist-packages (from transformers) (6.0)\n",
            "Requirement already satisfied: regex!=2019.12.17 in /usr/local/lib/python3.10/dist-packages (from transformers) (2022.10.31)\n",
            "Requirement already satisfied: requests in /usr/local/lib/python3.10/dist-packages (from transformers) (2.27.1)\n",
            "Collecting tokenizers!=0.11.3,<0.14,>=0.11.1 (from transformers)\n",
            "  Downloading tokenizers-0.13.3-cp310-cp310-manylinux_2_17_x86_64.manylinux2014_x86_64.whl (7.8 MB)\n",
            "\u001b[2K     \u001b[90m━━━━━━━━━━━━━━━━━━━━━━━━━━━━━━━━━━━━━━━━\u001b[0m \u001b[32m7.8/7.8 MB\u001b[0m \u001b[31m106.5 MB/s\u001b[0m eta \u001b[36m0:00:00\u001b[0m\n",
            "\u001b[?25hCollecting safetensors>=0.3.1 (from transformers)\n",
            "  Downloading safetensors-0.3.1-cp310-cp310-manylinux_2_17_x86_64.manylinux2014_x86_64.whl (1.3 MB)\n",
            "\u001b[2K     \u001b[90m━━━━━━━━━━━━━━━━━━━━━━━━━━━━━━━━━━━━━━━━\u001b[0m \u001b[32m1.3/1.3 MB\u001b[0m \u001b[31m85.7 MB/s\u001b[0m eta \u001b[36m0:00:00\u001b[0m\n",
            "\u001b[?25hRequirement already satisfied: tqdm>=4.27 in /usr/local/lib/python3.10/dist-packages (from transformers) (4.65.0)\n",
            "Requirement already satisfied: fsspec in /usr/local/lib/python3.10/dist-packages (from huggingface-hub<1.0,>=0.14.1->transformers) (2023.4.0)\n",
            "Requirement already satisfied: typing-extensions>=3.7.4.3 in /usr/local/lib/python3.10/dist-packages (from huggingface-hub<1.0,>=0.14.1->transformers) (4.5.0)\n",
            "Requirement already satisfied: urllib3<1.27,>=1.21.1 in /usr/local/lib/python3.10/dist-packages (from requests->transformers) (1.26.15)\n",
            "Requirement already satisfied: certifi>=2017.4.17 in /usr/local/lib/python3.10/dist-packages (from requests->transformers) (2022.12.7)\n",
            "Requirement already satisfied: charset-normalizer~=2.0.0 in /usr/local/lib/python3.10/dist-packages (from requests->transformers) (2.0.12)\n",
            "Requirement already satisfied: idna<4,>=2.5 in /usr/local/lib/python3.10/dist-packages (from requests->transformers) (3.4)\n",
            "Installing collected packages: tokenizers, safetensors, huggingface-hub, transformers\n",
            "Successfully installed huggingface-hub-0.15.1 safetensors-0.3.1 tokenizers-0.13.3 transformers-4.30.1\n"
          ]
        }
      ]
    },
    {
      "cell_type": "code",
      "source": [
        "# Import Finbert model\n",
        "import torch\n",
        "from transformers import AutoTokenizer, AutoModelForSequenceClassification\n",
        "\n",
        "#device = torch.device('cuda' if torch.cuda.is_available() else 'cpu')\n",
        "\n",
        "tokenizer = AutoTokenizer.from_pretrained(\"ProsusAI/finbert\")\n",
        "model = AutoModelForSequenceClassification.from_pretrained(\"ProsusAI/finbert\")\n",
        "\n",
        "# Move the model to the GPU\n",
        "#GPU----------------------------\n",
        "#model.to(device)\n",
        "#inputs = inputs.to(device)\n",
        "#------------------------------"
      ],
      "metadata": {
        "id": "lc_d1-6fLwuY"
      },
      "execution_count": 13,
      "outputs": []
    },
    {
      "cell_type": "code",
      "source": [
        "# Add input cleaned_articles_list to finbert model\n",
        "inputs = tokenizer(cleaned_articles_list, padding = True, truncation = True, return_tensors='pt')\n",
        "\n",
        "# print(inputs)"
      ],
      "metadata": {
        "id": "JHab-ebXowVI"
      },
      "execution_count": 14,
      "outputs": []
    },
    {
      "cell_type": "code",
      "source": [
        "# Generate the outputs\n",
        "\n",
        "outputs = model(**inputs)\n",
        "\n",
        "#outputs = model(**inputs.to(device))\n",
        "print(outputs.logits.shape)"
      ],
      "metadata": {
        "id": "fCZTXomxpGkr",
        "colab": {
          "base_uri": "https://localhost:8080/"
        },
        "outputId": "b6acaf85-9a17-4f04-f9ee-03d93343bace"
      },
      "execution_count": 15,
      "outputs": [
        {
          "output_type": "stream",
          "name": "stdout",
          "text": [
            "torch.Size([34, 3])\n"
          ]
        }
      ]
    },
    {
      "cell_type": "code",
      "source": [
        "import torch\n",
        "\n",
        "predictions = torch.nn.functional.softmax(outputs.logits, dim=-1)\n",
        "\n",
        "#print(predictions)"
      ],
      "metadata": {
        "id": "RTVu1kRDpJpS"
      },
      "execution_count": 16,
      "outputs": []
    },
    {
      "cell_type": "code",
      "source": [
        "# Print the results\n",
        "\n",
        "import pandas as pd\n",
        "\n",
        "positive = predictions[:, 0].tolist()\n",
        "negative = predictions[:, 1].tolist()\n",
        "neutral = predictions[:, 2].tolist()\n",
        "\n",
        "table = {'Headline':cleaned_articles_list,\n",
        "         \"Positive\":positive,\n",
        "         \"Negative\":negative,\n",
        "         \"Neutral\":neutral}\n",
        "\n",
        "df = pd.DataFrame(table, columns = [\"Headline\", \"Positive\", \"Negative\", \"Neutral\"])\n",
        "\n",
        "df.head(5)"
      ],
      "metadata": {
        "colab": {
          "base_uri": "https://localhost:8080/",
          "height": 206
        },
        "id": "tXPIMlTwpvDR",
        "outputId": "65c4c2d7-ee56-4c8f-fc6d-358393e8e551"
      },
      "execution_count": 17,
      "outputs": [
        {
          "output_type": "execute_result",
          "data": {
            "text/plain": [
              "                                            Headline  Positive  Negative  \\\n",
              "0  Europe's Legislators To Back Artists In Demand...  0.696172  0.021137   \n",
              "1  Harnessing the Power of Long-Term Technical An...  0.215605  0.013505   \n",
              "2  Global IPTV Market Report 2023: Growth in Pref...  0.080689  0.012069   \n",
              "3  Ray Dalio says AI technology both 'fabulous' a...  0.150918  0.017964   \n",
              "4  Tesla's Surge Boosts EV ETFs : We discuss Tesl...  0.778177  0.010744   \n",
              "\n",
              "    Neutral  \n",
              "0  0.282691  \n",
              "1  0.770890  \n",
              "2  0.907243  \n",
              "3  0.831118  \n",
              "4  0.211079  "
            ],
            "text/html": [
              "\n",
              "  <div id=\"df-6a9f7186-671e-45c7-a588-0c9dd9163c13\">\n",
              "    <div class=\"colab-df-container\">\n",
              "      <div>\n",
              "<style scoped>\n",
              "    .dataframe tbody tr th:only-of-type {\n",
              "        vertical-align: middle;\n",
              "    }\n",
              "\n",
              "    .dataframe tbody tr th {\n",
              "        vertical-align: top;\n",
              "    }\n",
              "\n",
              "    .dataframe thead th {\n",
              "        text-align: right;\n",
              "    }\n",
              "</style>\n",
              "<table border=\"1\" class=\"dataframe\">\n",
              "  <thead>\n",
              "    <tr style=\"text-align: right;\">\n",
              "      <th></th>\n",
              "      <th>Headline</th>\n",
              "      <th>Positive</th>\n",
              "      <th>Negative</th>\n",
              "      <th>Neutral</th>\n",
              "    </tr>\n",
              "  </thead>\n",
              "  <tbody>\n",
              "    <tr>\n",
              "      <th>0</th>\n",
              "      <td>Europe's Legislators To Back Artists In Demand...</td>\n",
              "      <td>0.696172</td>\n",
              "      <td>0.021137</td>\n",
              "      <td>0.282691</td>\n",
              "    </tr>\n",
              "    <tr>\n",
              "      <th>1</th>\n",
              "      <td>Harnessing the Power of Long-Term Technical An...</td>\n",
              "      <td>0.215605</td>\n",
              "      <td>0.013505</td>\n",
              "      <td>0.770890</td>\n",
              "    </tr>\n",
              "    <tr>\n",
              "      <th>2</th>\n",
              "      <td>Global IPTV Market Report 2023: Growth in Pref...</td>\n",
              "      <td>0.080689</td>\n",
              "      <td>0.012069</td>\n",
              "      <td>0.907243</td>\n",
              "    </tr>\n",
              "    <tr>\n",
              "      <th>3</th>\n",
              "      <td>Ray Dalio says AI technology both 'fabulous' a...</td>\n",
              "      <td>0.150918</td>\n",
              "      <td>0.017964</td>\n",
              "      <td>0.831118</td>\n",
              "    </tr>\n",
              "    <tr>\n",
              "      <th>4</th>\n",
              "      <td>Tesla's Surge Boosts EV ETFs : We discuss Tesl...</td>\n",
              "      <td>0.778177</td>\n",
              "      <td>0.010744</td>\n",
              "      <td>0.211079</td>\n",
              "    </tr>\n",
              "  </tbody>\n",
              "</table>\n",
              "</div>\n",
              "      <button class=\"colab-df-convert\" onclick=\"convertToInteractive('df-6a9f7186-671e-45c7-a588-0c9dd9163c13')\"\n",
              "              title=\"Convert this dataframe to an interactive table.\"\n",
              "              style=\"display:none;\">\n",
              "        \n",
              "  <svg xmlns=\"http://www.w3.org/2000/svg\" height=\"24px\"viewBox=\"0 0 24 24\"\n",
              "       width=\"24px\">\n",
              "    <path d=\"M0 0h24v24H0V0z\" fill=\"none\"/>\n",
              "    <path d=\"M18.56 5.44l.94 2.06.94-2.06 2.06-.94-2.06-.94-.94-2.06-.94 2.06-2.06.94zm-11 1L8.5 8.5l.94-2.06 2.06-.94-2.06-.94L8.5 2.5l-.94 2.06-2.06.94zm10 10l.94 2.06.94-2.06 2.06-.94-2.06-.94-.94-2.06-.94 2.06-2.06.94z\"/><path d=\"M17.41 7.96l-1.37-1.37c-.4-.4-.92-.59-1.43-.59-.52 0-1.04.2-1.43.59L10.3 9.45l-7.72 7.72c-.78.78-.78 2.05 0 2.83L4 21.41c.39.39.9.59 1.41.59.51 0 1.02-.2 1.41-.59l7.78-7.78 2.81-2.81c.8-.78.8-2.07 0-2.86zM5.41 20L4 18.59l7.72-7.72 1.47 1.35L5.41 20z\"/>\n",
              "  </svg>\n",
              "      </button>\n",
              "      \n",
              "  <style>\n",
              "    .colab-df-container {\n",
              "      display:flex;\n",
              "      flex-wrap:wrap;\n",
              "      gap: 12px;\n",
              "    }\n",
              "\n",
              "    .colab-df-convert {\n",
              "      background-color: #E8F0FE;\n",
              "      border: none;\n",
              "      border-radius: 50%;\n",
              "      cursor: pointer;\n",
              "      display: none;\n",
              "      fill: #1967D2;\n",
              "      height: 32px;\n",
              "      padding: 0 0 0 0;\n",
              "      width: 32px;\n",
              "    }\n",
              "\n",
              "    .colab-df-convert:hover {\n",
              "      background-color: #E2EBFA;\n",
              "      box-shadow: 0px 1px 2px rgba(60, 64, 67, 0.3), 0px 1px 3px 1px rgba(60, 64, 67, 0.15);\n",
              "      fill: #174EA6;\n",
              "    }\n",
              "\n",
              "    [theme=dark] .colab-df-convert {\n",
              "      background-color: #3B4455;\n",
              "      fill: #D2E3FC;\n",
              "    }\n",
              "\n",
              "    [theme=dark] .colab-df-convert:hover {\n",
              "      background-color: #434B5C;\n",
              "      box-shadow: 0px 1px 3px 1px rgba(0, 0, 0, 0.15);\n",
              "      filter: drop-shadow(0px 1px 2px rgba(0, 0, 0, 0.3));\n",
              "      fill: #FFFFFF;\n",
              "    }\n",
              "  </style>\n",
              "\n",
              "      <script>\n",
              "        const buttonEl =\n",
              "          document.querySelector('#df-6a9f7186-671e-45c7-a588-0c9dd9163c13 button.colab-df-convert');\n",
              "        buttonEl.style.display =\n",
              "          google.colab.kernel.accessAllowed ? 'block' : 'none';\n",
              "\n",
              "        async function convertToInteractive(key) {\n",
              "          const element = document.querySelector('#df-6a9f7186-671e-45c7-a588-0c9dd9163c13');\n",
              "          const dataTable =\n",
              "            await google.colab.kernel.invokeFunction('convertToInteractive',\n",
              "                                                     [key], {});\n",
              "          if (!dataTable) return;\n",
              "\n",
              "          const docLinkHtml = 'Like what you see? Visit the ' +\n",
              "            '<a target=\"_blank\" href=https://colab.research.google.com/notebooks/data_table.ipynb>data table notebook</a>'\n",
              "            + ' to learn more about interactive tables.';\n",
              "          element.innerHTML = '';\n",
              "          dataTable['output_type'] = 'display_data';\n",
              "          await google.colab.output.renderOutput(dataTable, element);\n",
              "          const docLink = document.createElement('div');\n",
              "          docLink.innerHTML = docLinkHtml;\n",
              "          element.appendChild(docLink);\n",
              "        }\n",
              "      </script>\n",
              "    </div>\n",
              "  </div>\n",
              "  "
            ]
          },
          "metadata": {},
          "execution_count": 17
        }
      ]
    },
    {
      "cell_type": "code",
      "source": [
        "# Visualize the sentiment for each headline\n",
        "\n",
        "import pandas as pd\n",
        "import matplotlib.pyplot as plt\n",
        "\n",
        "# Prepare the data for plotting\n",
        "headlines = df[\"Headline\"]\n",
        "positive_scores = df[\"Positive\"]\n",
        "negative_scores = df[\"Negative\"]\n",
        "neutral_scores = df[\"Neutral\"]\n",
        "\n",
        "# Set the width of the bars\n",
        "bar_width = 0.25\n",
        "\n",
        "# Set the positions of the bars on the x-axis\n",
        "r1 = range(len(df))\n",
        "r2 = [x + bar_width for x in r1]\n",
        "r3 = [x + 2 * bar_width for x in r1]\n",
        "\n",
        "# Plot the sentiment scale\n",
        "plt.figure(figsize=(18, 6))  # Adjust the figure size\n",
        "plt.bar(r1, positive_scores, color='g', width=bar_width, edgecolor='black', label='Positive')\n",
        "plt.bar(r2, negative_scores, color='r', width=bar_width, edgecolor='black', label='Negative')\n",
        "plt.bar(r3, neutral_scores, color='b', width=bar_width, edgecolor='black', label='Neutral')\n",
        "\n",
        "# Add x-axis labels\n",
        "plt.xlabel('Headline Index')\n",
        "plt.xticks([r + bar_width for r in range(len(df))], r1)  # Use index values as labels\n",
        "\n",
        "# Add y-axis label\n",
        "plt.ylabel('Sentiment Score')\n",
        "\n",
        "# Add chart title\n",
        "plt.title('Sentiment Scale')\n",
        "\n",
        "# Add legend\n",
        "plt.legend()\n",
        "\n",
        "# Show the plot\n",
        "plt.tight_layout()\n",
        "plt.show()\n"
      ],
      "metadata": {
        "colab": {
          "base_uri": "https://localhost:8080/",
          "height": 483
        },
        "id": "EwfyVGnCKaW6",
        "outputId": "6b6fec65-d18d-4f54-99aa-b21f9995d652"
      },
      "execution_count": 18,
      "outputs": [
        {
          "output_type": "display_data",
          "data": {
            "text/plain": [
              "<Figure size 1800x600 with 1 Axes>"
            ],
            "image/png": "[encoded data removed]"
          },
          "metadata": {}
        }
      ]
    },
    {
      "cell_type": "code",
      "source": [
        "# Add a new column for sentiment based on the highest value\n",
        "\n",
        "df[\"Overall_Sentiment\"] = df[[\"Positive\", \"Negative\", \"Neutral\"]].idxmax(axis=1)\n",
        "df[\"Overall_Sentiment\"] = df[\"Overall_Sentiment\"].apply(lambda x: x.capitalize())\n",
        "\n",
        "df.head(5)"
      ],
      "metadata": {
        "colab": {
          "base_uri": "https://localhost:8080/",
          "height": 206
        },
        "id": "JOAzP_S7I8e8",
        "outputId": "b88e675a-aeb0-4746-9609-f22d076f25a6"
      },
      "execution_count": 19,
      "outputs": [
        {
          "output_type": "execute_result",
          "data": {
            "text/plain": [
              "                                            Headline  Positive  Negative  \\\n",
              "0  Europe's Legislators To Back Artists In Demand...  0.696172  0.021137   \n",
              "1  Harnessing the Power of Long-Term Technical An...  0.215605  0.013505   \n",
              "2  Global IPTV Market Report 2023: Growth in Pref...  0.080689  0.012069   \n",
              "3  Ray Dalio says AI technology both 'fabulous' a...  0.150918  0.017964   \n",
              "4  Tesla's Surge Boosts EV ETFs : We discuss Tesl...  0.778177  0.010744   \n",
              "\n",
              "    Neutral Overall_Sentiment  \n",
              "0  0.282691          Positive  \n",
              "1  0.770890           Neutral  \n",
              "2  0.907243           Neutral  \n",
              "3  0.831118           Neutral  \n",
              "4  0.211079          Positive  "
            ],
            "text/html": [
              "\n",
              "  <div id=\"df-bd4744da-08c1-4f66-a92a-77d243cf41c5\">\n",
              "    <div class=\"colab-df-container\">\n",
              "      <div>\n",
              "<style scoped>\n",
              "    .dataframe tbody tr th:only-of-type {\n",
              "        vertical-align: middle;\n",
              "    }\n",
              "\n",
              "    .dataframe tbody tr th {\n",
              "        vertical-align: top;\n",
              "    }\n",
              "\n",
              "    .dataframe thead th {\n",
              "        text-align: right;\n",
              "    }\n",
              "</style>\n",
              "<table border=\"1\" class=\"dataframe\">\n",
              "  <thead>\n",
              "    <tr style=\"text-align: right;\">\n",
              "      <th></th>\n",
              "      <th>Headline</th>\n",
              "      <th>Positive</th>\n",
              "      <th>Negative</th>\n",
              "      <th>Neutral</th>\n",
              "      <th>Overall_Sentiment</th>\n",
              "    </tr>\n",
              "  </thead>\n",
              "  <tbody>\n",
              "    <tr>\n",
              "      <th>0</th>\n",
              "      <td>Europe's Legislators To Back Artists In Demand...</td>\n",
              "      <td>0.696172</td>\n",
              "      <td>0.021137</td>\n",
              "      <td>0.282691</td>\n",
              "      <td>Positive</td>\n",
              "    </tr>\n",
              "    <tr>\n",
              "      <th>1</th>\n",
              "      <td>Harnessing the Power of Long-Term Technical An...</td>\n",
              "      <td>0.215605</td>\n",
              "      <td>0.013505</td>\n",
              "      <td>0.770890</td>\n",
              "      <td>Neutral</td>\n",
              "    </tr>\n",
              "    <tr>\n",
              "      <th>2</th>\n",
              "      <td>Global IPTV Market Report 2023: Growth in Pref...</td>\n",
              "      <td>0.080689</td>\n",
              "      <td>0.012069</td>\n",
              "      <td>0.907243</td>\n",
              "      <td>Neutral</td>\n",
              "    </tr>\n",
              "    <tr>\n",
              "      <th>3</th>\n",
              "      <td>Ray Dalio says AI technology both 'fabulous' a...</td>\n",
              "      <td>0.150918</td>\n",
              "      <td>0.017964</td>\n",
              "      <td>0.831118</td>\n",
              "      <td>Neutral</td>\n",
              "    </tr>\n",
              "    <tr>\n",
              "      <th>4</th>\n",
              "      <td>Tesla's Surge Boosts EV ETFs : We discuss Tesl...</td>\n",
              "      <td>0.778177</td>\n",
              "      <td>0.010744</td>\n",
              "      <td>0.211079</td>\n",
              "      <td>Positive</td>\n",
              "    </tr>\n",
              "  </tbody>\n",
              "</table>\n",
              "</div>\n",
              "      <button class=\"colab-df-convert\" onclick=\"convertToInteractive('df-bd4744da-08c1-4f66-a92a-77d243cf41c5')\"\n",
              "              title=\"Convert this dataframe to an interactive table.\"\n",
              "              style=\"display:none;\">\n",
              "        \n",
              "  <svg xmlns=\"http://www.w3.org/2000/svg\" height=\"24px\"viewBox=\"0 0 24 24\"\n",
              "       width=\"24px\">\n",
              "    <path d=\"M0 0h24v24H0V0z\" fill=\"none\"/>\n",
              "    <path d=\"M18.56 5.44l.94 2.06.94-2.06 2.06-.94-2.06-.94-.94-2.06-.94 2.06-2.06.94zm-11 1L8.5 8.5l.94-2.06 2.06-.94-2.06-.94L8.5 2.5l-.94 2.06-2.06.94zm10 10l.94 2.06.94-2.06 2.06-.94-2.06-.94-.94-2.06-.94 2.06-2.06.94z\"/><path d=\"M17.41 7.96l-1.37-1.37c-.4-.4-.92-.59-1.43-.59-.52 0-1.04.2-1.43.59L10.3 9.45l-7.72 7.72c-.78.78-.78 2.05 0 2.83L4 21.41c.39.39.9.59 1.41.59.51 0 1.02-.2 1.41-.59l7.78-7.78 2.81-2.81c.8-.78.8-2.07 0-2.86zM5.41 20L4 18.59l7.72-7.72 1.47 1.35L5.41 20z\"/>\n",
              "  </svg>\n",
              "      </button>\n",
              "      \n",
              "  <style>\n",
              "    .colab-df-container {\n",
              "      display:flex;\n",
              "      flex-wrap:wrap;\n",
              "      gap: 12px;\n",
              "    }\n",
              "\n",
              "    .colab-df-convert {\n",
              "      background-color: #E8F0FE;\n",
              "      border: none;\n",
              "      border-radius: 50%;\n",
              "      cursor: pointer;\n",
              "      display: none;\n",
              "      fill: #1967D2;\n",
              "      height: 32px;\n",
              "      padding: 0 0 0 0;\n",
              "      width: 32px;\n",
              "    }\n",
              "\n",
              "    .colab-df-convert:hover {\n",
              "      background-color: #E2EBFA;\n",
              "      box-shadow: 0px 1px 2px rgba(60, 64, 67, 0.3), 0px 1px 3px 1px rgba(60, 64, 67, 0.15);\n",
              "      fill: #174EA6;\n",
              "    }\n",
              "\n",
              "    [theme=dark] .colab-df-convert {\n",
              "      background-color: #3B4455;\n",
              "      fill: #D2E3FC;\n",
              "    }\n",
              "\n",
              "    [theme=dark] .colab-df-convert:hover {\n",
              "      background-color: #434B5C;\n",
              "      box-shadow: 0px 1px 3px 1px rgba(0, 0, 0, 0.15);\n",
              "      filter: drop-shadow(0px 1px 2px rgba(0, 0, 0, 0.3));\n",
              "      fill: #FFFFFF;\n",
              "    }\n",
              "  </style>\n",
              "\n",
              "      <script>\n",
              "        const buttonEl =\n",
              "          document.querySelector('#df-bd4744da-08c1-4f66-a92a-77d243cf41c5 button.colab-df-convert');\n",
              "        buttonEl.style.display =\n",
              "          google.colab.kernel.accessAllowed ? 'block' : 'none';\n",
              "\n",
              "        async function convertToInteractive(key) {\n",
              "          const element = document.querySelector('#df-bd4744da-08c1-4f66-a92a-77d243cf41c5');\n",
              "          const dataTable =\n",
              "            await google.colab.kernel.invokeFunction('convertToInteractive',\n",
              "                                                     [key], {});\n",
              "          if (!dataTable) return;\n",
              "\n",
              "          const docLinkHtml = 'Like what you see? Visit the ' +\n",
              "            '<a target=\"_blank\" href=https://colab.research.google.com/notebooks/data_table.ipynb>data table notebook</a>'\n",
              "            + ' to learn more about interactive tables.';\n",
              "          element.innerHTML = '';\n",
              "          dataTable['output_type'] = 'display_data';\n",
              "          await google.colab.output.renderOutput(dataTable, element);\n",
              "          const docLink = document.createElement('div');\n",
              "          docLink.innerHTML = docLinkHtml;\n",
              "          element.appendChild(docLink);\n",
              "        }\n",
              "      </script>\n",
              "    </div>\n",
              "  </div>\n",
              "  "
            ]
          },
          "metadata": {},
          "execution_count": 19
        }
      ]
    },
    {
      "cell_type": "code",
      "source": [
        "# Calculate the count of positive, negative, and neutral values\n",
        "sentiment_counts = df[\"Overall_Sentiment\"].value_counts()\n",
        "\n",
        "# Print the count of each sentiment\n",
        "print(\"Sentiment Counts:\")\n",
        "print(sentiment_counts)"
      ],
      "metadata": {
        "colab": {
          "base_uri": "https://localhost:8080/"
        },
        "id": "7pEO0LOTrIzR",
        "outputId": "c9be2eb8-bff8-4139-d44f-fa256695dbd3"
      },
      "execution_count": 20,
      "outputs": [
        {
          "output_type": "stream",
          "name": "stdout",
          "text": [
            "Sentiment Counts:\n",
            "Neutral     21\n",
            "Positive    10\n",
            "Negative     3\n",
            "Name: Overall_Sentiment, dtype: int64\n"
          ]
        }
      ]
    },
    {
      "cell_type": "code",
      "source": [
        "# Calculate cumulative sentiment scores\n",
        "\n",
        "df[\"Cumulative Sentiment\"] = df[\"Positive\"] - df[\"Negative\"]\n",
        "\n",
        "df.head(5)"
      ],
      "metadata": {
        "colab": {
          "base_uri": "https://localhost:8080/",
          "height": 206
        },
        "id": "nziwOtPHIEt8",
        "outputId": "09f3c4b2-d600-4510-f444-62fbd7660694"
      },
      "execution_count": 21,
      "outputs": [
        {
          "output_type": "execute_result",
          "data": {
            "text/plain": [
              "                                            Headline  Positive  Negative  \\\n",
              "0  Europe's Legislators To Back Artists In Demand...  0.696172  0.021137   \n",
              "1  Harnessing the Power of Long-Term Technical An...  0.215605  0.013505   \n",
              "2  Global IPTV Market Report 2023: Growth in Pref...  0.080689  0.012069   \n",
              "3  Ray Dalio says AI technology both 'fabulous' a...  0.150918  0.017964   \n",
              "4  Tesla's Surge Boosts EV ETFs : We discuss Tesl...  0.778177  0.010744   \n",
              "\n",
              "    Neutral Overall_Sentiment  Cumulative Sentiment  \n",
              "0  0.282691          Positive              0.675035  \n",
              "1  0.770890           Neutral              0.202099  \n",
              "2  0.907243           Neutral              0.068620  \n",
              "3  0.831118           Neutral              0.132954  \n",
              "4  0.211079          Positive              0.767434  "
            ],
            "text/html": [
              "\n",
              "  <div id=\"df-fa79001f-3fb0-4958-80d2-3ca5fb95db17\">\n",
              "    <div class=\"colab-df-container\">\n",
              "      <div>\n",
              "<style scoped>\n",
              "    .dataframe tbody tr th:only-of-type {\n",
              "        vertical-align: middle;\n",
              "    }\n",
              "\n",
              "    .dataframe tbody tr th {\n",
              "        vertical-align: top;\n",
              "    }\n",
              "\n",
              "    .dataframe thead th {\n",
              "        text-align: right;\n",
              "    }\n",
              "</style>\n",
              "<table border=\"1\" class=\"dataframe\">\n",
              "  <thead>\n",
              "    <tr style=\"text-align: right;\">\n",
              "      <th></th>\n",
              "      <th>Headline</th>\n",
              "      <th>Positive</th>\n",
              "      <th>Negative</th>\n",
              "      <th>Neutral</th>\n",
              "      <th>Overall_Sentiment</th>\n",
              "      <th>Cumulative Sentiment</th>\n",
              "    </tr>\n",
              "  </thead>\n",
              "  <tbody>\n",
              "    <tr>\n",
              "      <th>0</th>\n",
              "      <td>Europe's Legislators To Back Artists In Demand...</td>\n",
              "      <td>0.696172</td>\n",
              "      <td>0.021137</td>\n",
              "      <td>0.282691</td>\n",
              "      <td>Positive</td>\n",
              "      <td>0.675035</td>\n",
              "    </tr>\n",
              "    <tr>\n",
              "      <th>1</th>\n",
              "      <td>Harnessing the Power of Long-Term Technical An...</td>\n",
              "      <td>0.215605</td>\n",
              "      <td>0.013505</td>\n",
              "      <td>0.770890</td>\n",
              "      <td>Neutral</td>\n",
              "      <td>0.202099</td>\n",
              "    </tr>\n",
              "    <tr>\n",
              "      <th>2</th>\n",
              "      <td>Global IPTV Market Report 2023: Growth in Pref...</td>\n",
              "      <td>0.080689</td>\n",
              "      <td>0.012069</td>\n",
              "      <td>0.907243</td>\n",
              "      <td>Neutral</td>\n",
              "      <td>0.068620</td>\n",
              "    </tr>\n",
              "    <tr>\n",
              "      <th>3</th>\n",
              "      <td>Ray Dalio says AI technology both 'fabulous' a...</td>\n",
              "      <td>0.150918</td>\n",
              "      <td>0.017964</td>\n",
              "      <td>0.831118</td>\n",
              "      <td>Neutral</td>\n",
              "      <td>0.132954</td>\n",
              "    </tr>\n",
              "    <tr>\n",
              "      <th>4</th>\n",
              "      <td>Tesla's Surge Boosts EV ETFs : We discuss Tesl...</td>\n",
              "      <td>0.778177</td>\n",
              "      <td>0.010744</td>\n",
              "      <td>0.211079</td>\n",
              "      <td>Positive</td>\n",
              "      <td>0.767434</td>\n",
              "    </tr>\n",
              "  </tbody>\n",
              "</table>\n",
              "</div>\n",
              "      <button class=\"colab-df-convert\" onclick=\"convertToInteractive('df-fa79001f-3fb0-4958-80d2-3ca5fb95db17')\"\n",
              "              title=\"Convert this dataframe to an interactive table.\"\n",
              "              style=\"display:none;\">\n",
              "        \n",
              "  <svg xmlns=\"http://www.w3.org/2000/svg\" height=\"24px\"viewBox=\"0 0 24 24\"\n",
              "       width=\"24px\">\n",
              "    <path d=\"M0 0h24v24H0V0z\" fill=\"none\"/>\n",
              "    <path d=\"M18.56 5.44l.94 2.06.94-2.06 2.06-.94-2.06-.94-.94-2.06-.94 2.06-2.06.94zm-11 1L8.5 8.5l.94-2.06 2.06-.94-2.06-.94L8.5 2.5l-.94 2.06-2.06.94zm10 10l.94 2.06.94-2.06 2.06-.94-2.06-.94-.94-2.06-.94 2.06-2.06.94z\"/><path d=\"M17.41 7.96l-1.37-1.37c-.4-.4-.92-.59-1.43-.59-.52 0-1.04.2-1.43.59L10.3 9.45l-7.72 7.72c-.78.78-.78 2.05 0 2.83L4 21.41c.39.39.9.59 1.41.59.51 0 1.02-.2 1.41-.59l7.78-7.78 2.81-2.81c.8-.78.8-2.07 0-2.86zM5.41 20L4 18.59l7.72-7.72 1.47 1.35L5.41 20z\"/>\n",
              "  </svg>\n",
              "      </button>\n",
              "      \n",
              "  <style>\n",
              "    .colab-df-container {\n",
              "      display:flex;\n",
              "      flex-wrap:wrap;\n",
              "      gap: 12px;\n",
              "    }\n",
              "\n",
              "    .colab-df-convert {\n",
              "      background-color: #E8F0FE;\n",
              "      border: none;\n",
              "      border-radius: 50%;\n",
              "      cursor: pointer;\n",
              "      display: none;\n",
              "      fill: #1967D2;\n",
              "      height: 32px;\n",
              "      padding: 0 0 0 0;\n",
              "      width: 32px;\n",
              "    }\n",
              "\n",
              "    .colab-df-convert:hover {\n",
              "      background-color: #E2EBFA;\n",
              "      box-shadow: 0px 1px 2px rgba(60, 64, 67, 0.3), 0px 1px 3px 1px rgba(60, 64, 67, 0.15);\n",
              "      fill: #174EA6;\n",
              "    }\n",
              "\n",
              "    [theme=dark] .colab-df-convert {\n",
              "      background-color: #3B4455;\n",
              "      fill: #D2E3FC;\n",
              "    }\n",
              "\n",
              "    [theme=dark] .colab-df-convert:hover {\n",
              "      background-color: #434B5C;\n",
              "      box-shadow: 0px 1px 3px 1px rgba(0, 0, 0, 0.15);\n",
              "      filter: drop-shadow(0px 1px 2px rgba(0, 0, 0, 0.3));\n",
              "      fill: #FFFFFF;\n",
              "    }\n",
              "  </style>\n",
              "\n",
              "      <script>\n",
              "        const buttonEl =\n",
              "          document.querySelector('#df-fa79001f-3fb0-4958-80d2-3ca5fb95db17 button.colab-df-convert');\n",
              "        buttonEl.style.display =\n",
              "          google.colab.kernel.accessAllowed ? 'block' : 'none';\n",
              "\n",
              "        async function convertToInteractive(key) {\n",
              "          const element = document.querySelector('#df-fa79001f-3fb0-4958-80d2-3ca5fb95db17');\n",
              "          const dataTable =\n",
              "            await google.colab.kernel.invokeFunction('convertToInteractive',\n",
              "                                                     [key], {});\n",
              "          if (!dataTable) return;\n",
              "\n",
              "          const docLinkHtml = 'Like what you see? Visit the ' +\n",
              "            '<a target=\"_blank\" href=https://colab.research.google.com/notebooks/data_table.ipynb>data table notebook</a>'\n",
              "            + ' to learn more about interactive tables.';\n",
              "          element.innerHTML = '';\n",
              "          dataTable['output_type'] = 'display_data';\n",
              "          await google.colab.output.renderOutput(dataTable, element);\n",
              "          const docLink = document.createElement('div');\n",
              "          docLink.innerHTML = docLinkHtml;\n",
              "          element.appendChild(docLink);\n",
              "        }\n",
              "      </script>\n",
              "    </div>\n",
              "  </div>\n",
              "  "
            ]
          },
          "metadata": {},
          "execution_count": 21
        }
      ]
    },
    {
      "cell_type": "code",
      "source": [
        "#Visualize based on Cumulative Sentiment score\n",
        "\n",
        "# Prepare the data for plotting\n",
        "dates = range(len(df))\n",
        "sentiments = df[\"Cumulative Sentiment\"]\n",
        "\n",
        "# Plot the sentiment trends\n",
        "plt.figure(figsize=(12, 6))  # Increase the width of the graph\n",
        "plt.plot(dates, sentiments, marker=\"o\")\n",
        "plt.xlabel(\"Headline Index\")\n",
        "plt.ylabel(\"Cumulative Sentiment\")\n",
        "plt.title(\"Sentiment Trends\")\n",
        "plt.xticks(dates, range(len(df)))  # Label headlines as 0, 1, 2, ...\n",
        "plt.grid(True)\n",
        "plt.tight_layout()  # Adjust the layout to avoid overlapping labels\n",
        "plt.show()\n"
      ],
      "metadata": {
        "colab": {
          "base_uri": "https://localhost:8080/",
          "height": 607
        },
        "id": "ZzOjF8yEzW7o",
        "outputId": "ed43de3d-010f-4cdf-db19-9ec4259da9ae"
      },
      "execution_count": 22,
      "outputs": [
        {
          "output_type": "display_data",
          "data": {
            "text/plain": [
              "<Figure size 1200x600 with 1 Axes>"
            ],
            "image/png": "[encoded data removed]"
          },
          "metadata": {}
        }
      ]
    },
    {
      "cell_type": "code",
      "source": [
        "# Predicting the stock direction for next day\n",
        "\n",
        "import pandas as pd\n",
        "\n",
        "\n",
        "# Cumulative Sentiment score calculated already : df[\"Cumulative Sentiment\"] = df[\"Positive\"] - df[\"Negative\"]\n",
        "\n",
        "# Calculate the overall sentiment score\n",
        "overall_sentiment_score = df[\"Cumulative Sentiment\"].sum()\n",
        "\n",
        "# Determine the overall sentiment direction\n",
        "if overall_sentiment_score > 0:\n",
        "    stock_direction = \"Up\"\n",
        "elif overall_sentiment_score < 0:\n",
        "    stock_direction = \"Down\"\n",
        "else:\n",
        "    stock_direction = \"Neutral\"\n",
        "\n",
        "print(\"Overall Sentiment Score:\", overall_sentiment_score)\n",
        "print(\"Predicted Stock Direction for Next Day:\", stock_direction)"
      ],
      "metadata": {
        "colab": {
          "base_uri": "https://localhost:8080/"
        },
        "id": "s3pGOg4o0WFK",
        "outputId": "d746a49b-97cf-4a23-a1c9-44896aac91fa"
      },
      "execution_count": 23,
      "outputs": [
        {
          "output_type": "stream",
          "name": "stdout",
          "text": [
            "Overall Sentiment Score: 6.700965234078467\n",
            "Predicted Stock Direction for Next Day: Up\n"
          ]
        }
      ]
    },
    {
      "cell_type": "code",
      "source": [],
      "metadata": {
        "id": "y_kfUTKiQPnT"
      },
      "execution_count": null,
      "outputs": []
    }
  ]
}